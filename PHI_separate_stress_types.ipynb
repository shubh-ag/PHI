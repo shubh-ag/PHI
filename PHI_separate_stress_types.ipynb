{
  "nbformat": 4,
  "nbformat_minor": 0,
  "metadata": {
    "colab": {
      "name": "PHI_separate stress types.ipynb",
      "provenance": [],
      "authorship_tag": "ABX9TyPqLY+hA7FFYQlTkB/FI4rq",
      "include_colab_link": true
    },
    "kernelspec": {
      "name": "python3",
      "display_name": "Python 3"
    },
    "language_info": {
      "name": "python"
    }
  },
  "cells": [
    {
      "cell_type": "markdown",
      "metadata": {
        "id": "view-in-github",
        "colab_type": "text"
      },
      "source": [
        "<a href=\"https://colab.research.google.com/github/shubh-ag/PHI/blob/master/PHI_separate_stress_types.ipynb\" target=\"_parent\"><img src=\"https://colab.research.google.com/assets/colab-badge.svg\" alt=\"Open In Colab\"/></a>"
      ]
    },
    {
      "cell_type": "code",
      "source": [
        "!pip install neurokit2"
      ],
      "metadata": {
        "colab": {
          "base_uri": "https://localhost:8080/"
        },
        "id": "yA70U7NTaU3g",
        "outputId": "0f7768f0-354f-4a23-c8da-7ee66170852f"
      },
      "execution_count": null,
      "outputs": [
        {
          "output_type": "stream",
          "name": "stdout",
          "text": [
            "Collecting neurokit2\n",
            "  Downloading neurokit2-0.1.7-py2.py3-none-any.whl (1.1 MB)\n",
            "\u001b[K     |████████████████████████████████| 1.1 MB 3.2 MB/s \n",
            "\u001b[?25hRequirement already satisfied: matplotlib in /usr/local/lib/python3.7/dist-packages (from neurokit2) (3.2.2)\n",
            "Requirement already satisfied: scikit-learn in /usr/local/lib/python3.7/dist-packages (from neurokit2) (1.0.2)\n",
            "Requirement already satisfied: scipy in /usr/local/lib/python3.7/dist-packages (from neurokit2) (1.4.1)\n",
            "Requirement already satisfied: numpy in /usr/local/lib/python3.7/dist-packages (from neurokit2) (1.21.5)\n",
            "Requirement already satisfied: pandas in /usr/local/lib/python3.7/dist-packages (from neurokit2) (1.3.5)\n",
            "Requirement already satisfied: python-dateutil>=2.1 in /usr/local/lib/python3.7/dist-packages (from matplotlib->neurokit2) (2.8.2)\n",
            "Requirement already satisfied: cycler>=0.10 in /usr/local/lib/python3.7/dist-packages (from matplotlib->neurokit2) (0.11.0)\n",
            "Requirement already satisfied: kiwisolver>=1.0.1 in /usr/local/lib/python3.7/dist-packages (from matplotlib->neurokit2) (1.3.2)\n",
            "Requirement already satisfied: pyparsing!=2.0.4,!=2.1.2,!=2.1.6,>=2.0.1 in /usr/local/lib/python3.7/dist-packages (from matplotlib->neurokit2) (3.0.7)\n",
            "Requirement already satisfied: six>=1.5 in /usr/local/lib/python3.7/dist-packages (from python-dateutil>=2.1->matplotlib->neurokit2) (1.15.0)\n",
            "Requirement already satisfied: pytz>=2017.3 in /usr/local/lib/python3.7/dist-packages (from pandas->neurokit2) (2018.9)\n",
            "Requirement already satisfied: joblib>=0.11 in /usr/local/lib/python3.7/dist-packages (from scikit-learn->neurokit2) (1.1.0)\n",
            "Requirement already satisfied: threadpoolctl>=2.0.0 in /usr/local/lib/python3.7/dist-packages (from scikit-learn->neurokit2) (3.1.0)\n",
            "Installing collected packages: neurokit2\n",
            "Successfully installed neurokit2-0.1.7\n"
          ]
        }
      ]
    },
    {
      "cell_type": "code",
      "execution_count": null,
      "metadata": {
        "id": "8SpCKQzCaMno"
      },
      "outputs": [],
      "source": [
        "import neurokit2 as nk\n",
        "import pandas as pd"
      ]
    },
    {
      "cell_type": "code",
      "source": [
        "data = nk.data(dataset=\"bio_eventrelated_100hz\")\n",
        "# pd.DataFrame({\"EDA\":data[\"EDA\"]})\n",
        "eda1 = nk.eda_simulate(duration=10, sampling_rate=250, scr_number=2, drift=0.01)\n",
        "eda2 = nk.eda_simulate(duration=10, sampling_rate=250, scr_number=2, drift=0.05)\n",
        "eda3 = nk.eda_simulate(duration=10, sampling_rate=250, scr_number=2, drift=0.50)\n",
        "eda4 = nk.eda_simulate(duration=10, sampling_rate=250, scr_number=2, drift=0.01)\n",
        "eda5 = nk.eda_simulate(duration=10, sampling_rate=250, scr_number=2, drift=0.01)\n",
        "\n",
        "\n",
        "# signals, info = nk.eda_process(eda1, sampling_rate=250)\n",
        "# nk.eda_plot(signals, sampling_rate=250)\n",
        "\n",
        "# signals, info = nk.eda_process(eda2, sampling_rate=250)\n",
        "# nk.eda_plot(signals, sampling_rate=250)\n",
        "\n",
        "# signals, info = nk.eda_process(eda3, sampling_rate=250)\n",
        "# nk.eda_plot(signals, sampling_rate=250)\n",
        "\n",
        "eda1\n",
        "# len(eda1)"
      ],
      "metadata": {
        "colab": {
          "base_uri": "https://localhost:8080/"
        },
        "id": "C_wDS0m4at_a",
        "outputId": "9ee6f664-7cc6-4a26-f690-50458b188f33"
      },
      "execution_count": 18,
      "outputs": [
        {
          "output_type": "execute_result",
          "data": {
            "text/plain": [
              "array([0.98537007, 0.98545325, 0.98561902, ..., 1.12357018, 1.12352695,\n",
              "       1.12348639])"
            ]
          },
          "metadata": {},
          "execution_count": 18
        }
      ]
    },
    {
      "cell_type": "code",
      "source": [
        "!git clone https://github.com/shubh-ag/PHI"
      ],
      "metadata": {
        "colab": {
          "base_uri": "https://localhost:8080/"
        },
        "id": "2UOixtF0SKya",
        "outputId": "8726946b-710a-4923-d914-78ff5ba50d46"
      },
      "execution_count": 2,
      "outputs": [
        {
          "output_type": "stream",
          "name": "stdout",
          "text": [
            "Cloning into 'PHI'...\n",
            "remote: Enumerating objects: 71, done.\u001b[K\n",
            "remote: Counting objects: 100% (71/71), done.\u001b[K\n",
            "remote: Compressing objects: 100% (52/52), done.\u001b[K\n",
            "remote: Total 71 (delta 19), reused 67 (delta 18), pack-reused 0\u001b[K\n",
            "Unpacking objects: 100% (71/71), done.\n"
          ]
        }
      ]
    },
    {
      "cell_type": "code",
      "source": [
        "%cd /content/PHI/data/utd"
      ],
      "metadata": {
        "colab": {
          "base_uri": "https://localhost:8080/"
        },
        "id": "suZ62mtzVqDl",
        "outputId": "75da8438-c0b3-4619-da65-945142bf904c"
      },
      "execution_count": 3,
      "outputs": [
        {
          "output_type": "stream",
          "name": "stdout",
          "text": [
            "/content/PHI/data/utd\n"
          ]
        }
      ]
    },
    {
      "cell_type": "code",
      "source": [
        "#IMPORTS\n",
        "import pandas as pd\n",
        "import numpy as np\n",
        "import os\n",
        "from pandas import read_csv\n",
        "import statistics\n",
        "from sklearn.model_selection import train_test_split"
      ],
      "metadata": {
        "id": "Zf3JxDTPYYaO"
      },
      "execution_count": 51,
      "outputs": []
    },
    {
      "cell_type": "code",
      "source": [
        "# Create data frame using EDA data\n",
        "data = []\n",
        "for i in os.listdir():\n",
        "  temp = read_csv(i+\"/\"+i+\"AccTempEDA.csv\")\n",
        "  temp = temp.drop(['Hour','Minute','Second'], axis=1)\n",
        "  interval = 8 #4Hz and we combine data for 2 secs\n",
        "  subject_data = []\n",
        "  for j in range(0, len(temp) - interval, interval):\n",
        "    d = temp[j:j+interval]\n",
        "    d_np = d.to_numpy()[:,:-1]\n",
        "    minimum = np.amin(d_np, axis = 0).astype(float)\n",
        "    maximum = np.amax(d_np, axis = 0).astype(float)\n",
        "    average = np.average(d_np, axis = 0).astype(float)\n",
        "    values, counts = np.unique(d['Label'], return_counts=True)\n",
        "    mode = values[np.argmax(counts)]\n",
        "    df = []\n",
        "    df.extend(np.around(minimum, decimals=4))\n",
        "    df.extend(np.around(maximum, 4))\n",
        "    df.extend(np.around(average, 4))\n",
        "    df.append(mode)\n",
        "    subject_data.append(np.nan_to_num(df))\n",
        "  \n",
        "  # z_scores = []\n",
        "  # for c in range(len(subject_data[0])):\n",
        "  #   # print(len(subject_data[:,c]))\n",
        "  #   # print(np.average(subject_data[:, c]))\n",
        "  #   print(len((subject_data[:,c] - np.average(subject_data[:, c])) / np.std(subject_data[:,c])))\n",
        "  # # (df[col] - df[col].mean())/df[col].std(ddof=0)\n",
        "  data.extend(subject_data)\n",
        "\n",
        "\n",
        "\n",
        "df = pd.DataFrame(data, columns=[\"min_acc_z\",\"min_acc_x\",\"min_acc_y\",\"min_temp\", \"min_eda\",\n",
        "                             \"max_acc_z\",\"max_acc_x\",\"max_acc_y\",\"max_temp\", \"max_eda\",\n",
        "                             \"avg_acc_z\",\"avg_acc_x\",\"avg_acc_y\",\"avg_temp\", \"avg_eda\",\n",
        "                             \"label\"])"
      ],
      "metadata": {
        "id": "VMqgEXJnYdP7"
      },
      "execution_count": 42,
      "outputs": []
    },
    {
      "cell_type": "code",
      "source": [
        "df_y = df['label']\n",
        "df_x = df.drop(['label'], axis=1)\n",
        "\n",
        "X_train, X_test, y_train, y_test  = train_test_split(df_x, df_y, test_size=0.2)\n",
        "print(len(X_train))\n",
        "print(len(X_test))\n",
        "print(len(y_train))\n",
        "print(len(y_test))"
      ],
      "metadata": {
        "colab": {
          "base_uri": "https://localhost:8080/"
        },
        "id": "UolxHKR0tUA1",
        "outputId": "e5117aeb-f25d-40d6-8913-6ebfed2cb56b"
      },
      "execution_count": 58,
      "outputs": [
        {
          "output_type": "stream",
          "name": "stdout",
          "text": [
            "36871\n",
            "9218\n",
            "36871\n",
            "9218\n",
            "Relax              19214\n",
            "EmotionalStress     6750\n",
            "CognitiveStress     5656\n",
            "PhysicalStress      5251\n",
            "Name: label, dtype: int64\n",
            "Relax              4756\n",
            "EmotionalStress    1733\n",
            "CognitiveStress    1455\n",
            "PhysicalStress     1274\n",
            "Name: label, dtype: int64\n"
          ]
        }
      ]
    },
    {
      "cell_type": "code",
      "source": [
        "from sklearn.neural_network import MLPClassifier\n",
        "from sklearn.metrics import f1_score\n",
        "from sklearn.metrics import ConfusionMatrixDisplay"
      ],
      "metadata": {
        "id": "JqDCYiYL_iLT"
      },
      "execution_count": 72,
      "outputs": []
    },
    {
      "cell_type": "code",
      "source": [
        "clf = MLPClassifier(random_state=1, max_iter=500).fit(X_train, y_train)\n",
        "y_pred = clf.predict(X_test)"
      ],
      "metadata": {
        "colab": {
          "base_uri": "https://localhost:8080/",
          "height": 423
        },
        "id": "Z9J_rC5x2axw",
        "outputId": "f436214f-2e7f-4d14-dd96-929742572084"
      },
      "execution_count": 70,
      "outputs": [
        {
          "output_type": "stream",
          "name": "stderr",
          "text": [
            "/usr/local/lib/python3.7/dist-packages/sklearn/utils/deprecation.py:87: FutureWarning: Function plot_confusion_matrix is deprecated; Function `plot_confusion_matrix` is deprecated in 1.0 and will be removed in 1.2. Use one of the class methods: ConfusionMatrixDisplay.from_predictions or ConfusionMatrixDisplay.from_estimator.\n",
            "  warnings.warn(msg, category=FutureWarning)\n"
          ]
        },
        {
          "output_type": "execute_result",
          "data": {
            "text/plain": [
              "<sklearn.metrics._plot.confusion_matrix.ConfusionMatrixDisplay at 0x7f62a41889d0>"
            ]
          },
          "metadata": {},
          "execution_count": 70
        },
        {
          "output_type": "display_data",
          "data": {
            "image/png": "[encoded data removed]",
            "text/plain": [
              "<Figure size 432x288 with 2 Axes>"
            ]
          },
          "metadata": {
            "needs_background": "light"
          }
        }
      ]
    },
    {
      "cell_type": "code",
      "source": [
        "print(f1_score(y_test, y_pred, average='weighted'))\n",
        "ConfusionMatrixDisplay.from_predictions(y_test, y_pred, xticks_rotation='vertical')"
      ],
      "metadata": {
        "colab": {
          "base_uri": "https://localhost:8080/",
          "height": 385
        },
        "id": "5a7Rctg5_f2l",
        "outputId": "c068945d-c74b-4e9f-d382-f097f1ddb9ef"
      },
      "execution_count": 74,
      "outputs": [
        {
          "output_type": "stream",
          "name": "stdout",
          "text": [
            "0.7871762644126679\n"
          ]
        },
        {
          "output_type": "execute_result",
          "data": {
            "text/plain": [
              "<sklearn.metrics._plot.confusion_matrix.ConfusionMatrixDisplay at 0x7f62945ade90>"
            ]
          },
          "metadata": {},
          "execution_count": 74
        },
        {
          "output_type": "display_data",
          "data": {
            "image/png": "[encoded data removed]",
            "text/plain": [
              "<Figure size 432x288 with 2 Axes>"
            ]
          },
          "metadata": {
            "needs_background": "light"
          }
        }
      ]
    }
  ]
}