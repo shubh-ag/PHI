{
  "nbformat": 4,
  "nbformat_minor": 0,
  "metadata": {
    "colab": {
      "name": "PHI_binary stress classification.ipynb",
      "provenance": [],
      "authorship_tag": "ABX9TyM0RLNhGwNFRBmkVjB9sdPs",
      "include_colab_link": true
    },
    "kernelspec": {
      "name": "python3",
      "display_name": "Python 3"
    },
    "language_info": {
      "name": "python"
    }
  },
  "cells": [
    {
      "cell_type": "markdown",
      "metadata": {
        "id": "view-in-github",
        "colab_type": "text"
      },
      "source": [
        "<a href=\"https://colab.research.google.com/github/shubh-ag/PHI/blob/master/PHI_binary_stress_classification.ipynb\" target=\"_parent\"><img src=\"https://colab.research.google.com/assets/colab-badge.svg\" alt=\"Open In Colab\"/></a>"
      ]
    },
    {
      "cell_type": "code",
      "source": [
        "!git clone https://github.com/shubh-ag/PHI"
      ],
      "metadata": {
        "colab": {
          "base_uri": "https://localhost:8080/"
        },
        "id": "2UOixtF0SKya",
        "outputId": "f2cd769d-4610-4e26-b11b-78adcf9dd274"
      },
      "execution_count": 2,
      "outputs": [
        {
          "output_type": "stream",
          "name": "stdout",
          "text": [
            "fatal: destination path 'PHI' already exists and is not an empty directory.\n"
          ]
        }
      ]
    },
    {
      "cell_type": "code",
      "source": [
        "%cd /content/PHI/data/utd"
      ],
      "metadata": {
        "colab": {
          "base_uri": "https://localhost:8080/"
        },
        "id": "suZ62mtzVqDl",
        "outputId": "8bcf7621-a708-47e5-b916-6ed2b9b67521"
      },
      "execution_count": 3,
      "outputs": [
        {
          "output_type": "stream",
          "name": "stdout",
          "text": [
            "/content/PHI/data/utd\n"
          ]
        }
      ]
    },
    {
      "cell_type": "code",
      "source": [
        "#IMPORTS\n",
        "import pandas as pd\n",
        "import numpy as np\n",
        "import os\n",
        "from pandas import read_csv\n",
        "import statistics\n",
        "\n",
        "from sklearn.model_selection import train_test_split\n",
        "from sklearn.neural_network import MLPClassifier\n",
        "from sklearn.metrics import f1_score\n",
        "from sklearn.metrics import ConfusionMatrixDisplay\n",
        "from sklearn.linear_model import LogisticRegression\n",
        "\n",
        "from sklearn.naive_bayes import BernoulliNB\n",
        "from sklearn.naive_bayes import CategoricalNB\n",
        "from sklearn.naive_bayes import ComplementNB\n",
        "from sklearn.naive_bayes import GaussianNB\n",
        "from sklearn.naive_bayes import MultinomialNB"
      ],
      "metadata": {
        "id": "Zf3JxDTPYYaO"
      },
      "execution_count": 4,
      "outputs": []
    },
    {
      "cell_type": "code",
      "source": [
        "# Create data frame using EDA data\n",
        "data = []\n",
        "for i in os.listdir():\n",
        "  temp = read_csv(i+\"/\"+i+\"AccTempEDA.csv\")\n",
        "  temp = temp.drop(['Hour','Minute','Second'], axis=1)\n",
        "  temp = temp.replace({'CognitiveStress', 'PhysicalStress','EmotionalStress'},'stress')\n",
        "  interval = 8 #4Hz and we combine data for 2 secs\n",
        "  subject_data = []\n",
        "  for j in range(0, len(temp) - interval, interval):\n",
        "    d = temp[j:j+interval]\n",
        "    d_np = d.to_numpy()[:,:-1]\n",
        "    minimum = np.amin(d_np, axis = 0).astype(float)\n",
        "    maximum = np.amax(d_np, axis = 0).astype(float)\n",
        "    average = np.average(d_np, axis = 0).astype(float)\n",
        "    values, counts = np.unique(d['Label'], return_counts=True)\n",
        "    mode = values[np.argmax(counts)]\n",
        "    df = []\n",
        "    df.extend(np.around(minimum, decimals=4))\n",
        "    df.extend(np.around(maximum, 4))\n",
        "    df.extend(np.around(average, 4))\n",
        "    df.append(mode)\n",
        "    subject_data.append(np.nan_to_num(df))\n",
        "  \n",
        "  # z_scores = []\n",
        "  # for c in range(len(subject_data[0])):\n",
        "  #   # print(len(subject_data[:,c]))\n",
        "  #   # print(np.average(subject_data[:, c]))\n",
        "  #   print(len((subject_data[:,c] - np.average(subject_data[:, c])) / np.std(subject_data[:,c])))\n",
        "  # # (df[col] - df[col].mean())/df[col].std(ddof=0)\n",
        "  data.extend(subject_data)\n",
        "\n",
        "\n",
        "\n",
        "df = pd.DataFrame(data, columns=[\"min_acc_z\",\"min_acc_x\",\"min_acc_y\",\"min_temp\", \"min_eda\",\n",
        "                             \"max_acc_z\",\"max_acc_x\",\"max_acc_y\",\"max_temp\", \"max_eda\",\n",
        "                             \"avg_acc_z\",\"avg_acc_x\",\"avg_acc_y\",\"avg_temp\", \"avg_eda\",\n",
        "                             \"label\"])"
      ],
      "metadata": {
        "id": "VMqgEXJnYdP7"
      },
      "execution_count": 5,
      "outputs": []
    },
    {
      "cell_type": "code",
      "source": [
        "df_y = df['label']\n",
        "df_x = df.drop(['label'], axis=1)\n",
        "\n",
        "X_train, X_test, y_train, y_test  = train_test_split(df_x, df_y, test_size=0.2)\n",
        "print(len(X_train))\n",
        "print(len(X_test))\n",
        "print(len(y_train))\n",
        "print(len(y_test))"
      ],
      "metadata": {
        "colab": {
          "base_uri": "https://localhost:8080/"
        },
        "id": "UolxHKR0tUA1",
        "outputId": "5d06f164-5b35-4616-9b7c-30287401cda0"
      },
      "execution_count": 6,
      "outputs": [
        {
          "output_type": "stream",
          "name": "stdout",
          "text": [
            "36871\n",
            "9218\n",
            "36871\n",
            "9218\n"
          ]
        }
      ]
    },
    {
      "cell_type": "code",
      "source": [
        "clf = MLPClassifier(random_state=1, max_iter=500).fit(X_train, y_train)\n",
        "y_pred = clf.predict(X_test)\n",
        "print(f1_score(y_test, y_pred, average='weighted'))\n",
        "ConfusionMatrixDisplay.from_predictions(y_test, y_pred, xticks_rotation='vertical')"
      ],
      "metadata": {
        "colab": {
          "base_uri": "https://localhost:8080/",
          "height": 334
        },
        "id": "Z9J_rC5x2axw",
        "outputId": "a44c21d1-0132-4bf7-e920-56ba0d566554"
      },
      "execution_count": 7,
      "outputs": [
        {
          "output_type": "stream",
          "name": "stdout",
          "text": [
            "0.894682636623022\n"
          ]
        },
        {
          "output_type": "execute_result",
          "data": {
            "text/plain": [
              "<sklearn.metrics._plot.confusion_matrix.ConfusionMatrixDisplay at 0x7fa399eea110>"
            ]
          },
          "metadata": {},
          "execution_count": 7
        },
        {
          "output_type": "display_data",
          "data": {
            "image/png": "[encoded data removed]",
            "text/plain": [
              "<Figure size 432x288 with 2 Axes>"
            ]
          },
          "metadata": {
            "needs_background": "light"
          }
        }
      ]
    },
    {
      "cell_type": "code",
      "source": [
        "clf = LogisticRegression(random_state=1, max_iter=500).fit(X_train, y_train)\n",
        "y_pred = clf.predict(X_test)\n",
        "print(f1_score(y_test, y_pred, average='weighted'))\n",
        "ConfusionMatrixDisplay.from_predictions(y_test, y_pred, xticks_rotation='vertical')"
      ],
      "metadata": {
        "colab": {
          "base_uri": "https://localhost:8080/",
          "height": 334
        },
        "id": "5a7Rctg5_f2l",
        "outputId": "db6f1a55-d7b7-40bd-9659-417e951eaa1d"
      },
      "execution_count": 8,
      "outputs": [
        {
          "output_type": "stream",
          "name": "stdout",
          "text": [
            "0.7274344235376521\n"
          ]
        },
        {
          "output_type": "execute_result",
          "data": {
            "text/plain": [
              "<sklearn.metrics._plot.confusion_matrix.ConfusionMatrixDisplay at 0x7fa399d06d90>"
            ]
          },
          "metadata": {},
          "execution_count": 8
        },
        {
          "output_type": "display_data",
          "data": {
            "image/png": "[encoded data removed]",
            "text/plain": [
              "<Figure size 432x288 with 2 Axes>"
            ]
          },
          "metadata": {
            "needs_background": "light"
          }
        }
      ]
    },
    {
      "cell_type": "code",
      "source": [
        "clf = GaussianNB().fit(X_train, y_train)\n",
        "y_pred = clf.predict(X_test)\n",
        "print(f1_score(y_test, y_pred, average='weighted'))\n",
        "ConfusionMatrixDisplay.from_predictions(y_test, y_pred, xticks_rotation='vertical')"
      ],
      "metadata": {
        "colab": {
          "base_uri": "https://localhost:8080/",
          "height": 334
        },
        "id": "HFkA36nyDss3",
        "outputId": "0596b717-a974-45e6-ced1-06bcca60975e"
      },
      "execution_count": 9,
      "outputs": [
        {
          "output_type": "stream",
          "name": "stdout",
          "text": [
            "0.7166544425031321\n"
          ]
        },
        {
          "output_type": "execute_result",
          "data": {
            "text/plain": [
              "<sklearn.metrics._plot.confusion_matrix.ConfusionMatrixDisplay at 0x7fa3984b9a90>"
            ]
          },
          "metadata": {},
          "execution_count": 9
        },
        {
          "output_type": "display_data",
          "data": {
            "image/png": "[encoded data removed]",
            "text/plain": [
              "<Figure size 432x288 with 2 Axes>"
            ]
          },
          "metadata": {
            "needs_background": "light"
          }
        }
      ]
    }
  ]
}